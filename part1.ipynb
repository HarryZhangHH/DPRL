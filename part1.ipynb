{
 "cells": [
  {
   "cell_type": "code",
   "execution_count": 1,
   "id": "9e2ab6d8",
   "metadata": {},
   "outputs": [],
   "source": [
    "import numpy as np\n",
    "import matplotlib.pyplot as plt"
   ]
  },
  {
   "cell_type": "markdown",
   "id": "f1ae65de",
   "metadata": {},
   "source": [
    "# Question\n",
    "Considering the chain environment made up of 5 discrete states and 2 discrete actions, where you get a reward on 0.2 on one end of the chain and 1 at the other end.\n",
    "\n",
    "The initial state is state 1.\n",
    "\n",
    "Discount factor $\\gamma=0.9$\n",
    "\n",
    "![pic1](asg4.png)\n",
    "\n"
   ]
  },
  {
   "cell_type": "markdown",
   "id": "e2ff3c19",
   "metadata": {},
   "source": [
    "## part 1-(a)\n",
    "\n",
    "Solve using tabular Q-learning and ε-greedy.\n",
    "\n",
    "Provide the optimal Q-values, discuss the learning rate $\\alpha$ and $\\epsilon$."
   ]
  },
  {
   "cell_type": "markdown",
   "id": "2f58e00f",
   "metadata": {},
   "source": [
    "Here we set up the environment, by directly considering the action with state transition:\n",
    "\n",
    "$$\\#\\text{State_space} = 5 \\quad \\#\\text{Action_space} = 2$$\n",
    "\n",
    "$$\n",
    "r=\\left[\n",
    "\\begin{matrix}\n",
    " 0.2 & 0 \\\\\n",
    " 0 & 0 \\\\\n",
    " 0 & 0 \\\\\n",
    " 0 & 0 \\\\\n",
    " 0 & 1 \\\\\n",
    "\\end{matrix}\n",
    "\\right]\\quad\n",
    "a=\\left[\n",
    "\\begin{matrix}\n",
    " 2 & 1 \\\\\n",
    " 3 & 1 \\\\\n",
    " 4 & 1 \\\\\n",
    " 5 & 1 \\\\\n",
    " 5 & 1 \\\\\n",
    "\\end{matrix}\n",
    "\\right]\n",
    "$$\n",
    "\n",
    "where $r$ is the reward on each state under two actions , and $a$ denotes state transition result under two actions."
   ]
  },
  {
   "cell_type": "code",
   "execution_count": 4,
   "id": "784a2cc9",
   "metadata": {},
   "outputs": [],
   "source": [
    "## set up the environment\n",
    "N = 5\n",
    "A = 2\n",
    "# T = 1000 # iteration time\n",
    "lamda = 0.9 # discount\n",
    "r = np.array(([0, 0 ,0 ,0, 1],\n",
    "             [0.2, 0, 0, 0, 0])).transpose()\n",
    "a = np.array(([1,2,3,4,4],\n",
    "             [0,0,0,0,0])).transpose()"
   ]
  },
  {
   "cell_type": "markdown",
   "id": "150193c5",
   "metadata": {},
   "source": [
    "### greedy baseline\n",
    "\n",
    "First, let's do a greedy tabular Q-learning method to give a solution, where we set learning rate $\\alpha=0.9$\n",
    "\n",
    "Q-table update rule:\n",
    "$$Q\\left(x_{t+1}, a_{t+1}\\right) \\leftarrow Q\\left(x_{t}, a_{t}\\right)+\\alpha_{t}\\left[r_{t}+\\gamma \\max _{a^{\\prime} \\in \\mathcal{A}} Q_{t}\\left(x_{t+1}, a^{\\prime}\\right)-Q_{t}\\left(x_{t}, a_{t}\\right)\\right]$$\n",
    "\n",
    "End the iteration when $\\text{SUM}(Q(x_{t+1},a_{t+1})-Q(x_{t},a_{t}))^2 \\leq e$, where $e=\\text{1e-20}$"
   ]
  },
  {
   "cell_type": "code",
   "execution_count": 5,
   "id": "57a6d5ef",
   "metadata": {},
   "outputs": [
    {
     "name": "stdout",
     "output_type": "stream",
     "text": [
      "Iteraion time: 257\n",
      "q_value*：\n",
      "[[ 6.561   6.1049]\n",
      " [ 7.29    5.9049]\n",
      " [ 8.1     5.9049]\n",
      " [ 9.      5.9049]\n",
      " [10.      5.9049]]\n"
     ]
    }
   ],
   "source": [
    "## start with an arbitrarily Q-table Q(x,a)\n",
    "q_value = np.zeros((N,A))\n",
    "alpha = 0.9\n",
    "\n",
    "residuals = 1\n",
    "e = 1e-20\n",
    "T = 0\n",
    "\n",
    "while residuals > e:\n",
    "    max_q = np.amax(q_value, axis=1)\n",
    "    q_value_new = q_value + alpha*(r + lamda*max_q[a] - q_value)\n",
    "    L2 = (q_value_new-q_value)**2\n",
    "    residuals = L2.sum(axis=(0,1))\n",
    "    q_value = q_value_new\n",
    "    T += 1\n",
    "\n",
    "print(f\"Iteraion time: {T}\")\n",
    "print(f\"q_value*：\\n{q_value}\")"
   ]
  },
  {
   "cell_type": "markdown",
   "id": "12ee9158",
   "metadata": {},
   "source": [
    "We can observe that it is converged after 257 times iteration, when $\\alpha =0.9$"
   ]
  },
  {
   "cell_type": "markdown",
   "id": "bbe5b4ce",
   "metadata": {},
   "source": [
    "# ε-greedy \n",
    "\n",
    "Under ε-greedy condition, we have a probability of $1-\\epsilon\\ $ to do an action following $\\max_a{Q(x,a)}$, while a probability of $\\epsilon\\ $ to randomly choose an action and get the $Q(x,a_r)$\n",
    "\n",
    "So that the update rule becomes to:\n",
    "\n",
    "$$\n",
    "Q(x_{t+1},a_{t+1})=\\left\\{\\begin{array}{lr}\n",
    "Q\\left(x_{t}, a_{t}\\right)+\\alpha_{t}\\left[r_{t}+\\gamma \\max _{a^{\\prime} \\in \\mathcal{A}} Q_{t}\\left(x_{t+1}, a^{\\prime}\\right)-Q_{t}\\left(x_{t}, a_{t}\\right)\\right],& \\text{if } p \\geq \\epsilon \\\\\n",
    "Q\\left(x_{t}, a_{t}\\right)+\\alpha_{t}\\left[r_{t}+\\gamma Q_{t}\\left(x_{t+1}, a_{r}\\right)-Q_{t}\\left(x_{t}, a_{t}\\right)\\right],& \\text{otherwise}\n",
    "\\end{array}\\right.\n",
    "$$\n",
    "\n",
    "where $a_r$ stands for the random action.\n",
    "\n",
    "Now we set both $\\epsilon$ and learning rate $\\alpha$ as variables to see the convergence speed under different parameters:"
   ]
  },
  {
   "cell_type": "markdown",
   "id": "a21328c4",
   "metadata": {},
   "source": [
    "In this case, we set:\n",
    "$$\\alpha \\in [0.8,1], \\quad \\epsilon \\in [0,0.2], \\quad \\Delta \\leq \\text{1e-5 as converge} $$"
   ]
  },
  {
   "cell_type": "code",
   "execution_count": 20,
   "id": "0bb0f464",
   "metadata": {},
   "outputs": [],
   "source": [
    "## Q-table iteration\n",
    "def Q_learning(alpha=0.9,epsilon = 0.01):\n",
    "    q_value = np.zeros((N,A))\n",
    "\n",
    "    residuals = 1\n",
    "    e = 1e-5\n",
    "    T = 0\n",
    "    while residuals > e:\n",
    "        ep = np.random.rand()\n",
    "        if ep < epsilon:\n",
    "            random_q = random_select_q(q_value[a])\n",
    "            q_value_new = q_value + alpha*(r + lamda*random_q - q_value)\n",
    "        else:\n",
    "            max_q = np.amax(q_value, axis=1)\n",
    "            q_value_new = q_value + alpha*(r + lamda*max_q[a] - q_value)\n",
    "        ## calculate L2 norm distance\n",
    "        L2 = (q_value_new-q_value)**2\n",
    "        residuals = L2.sum(axis=(0,1))\n",
    "        q_value = q_value_new\n",
    "        T += 1\n",
    "\n",
    "#     print(f\"Iteraion time: {T}\")\n",
    "#     print(f\"q_value*：\\n{q_value}\")\n",
    "    return T,q_value\n",
    "\n",
    "## set alpha and epsilon range\n",
    "alpha_range = np.arange(1,0.75,-0.05)\n",
    "epsilon_range = np.arange(0,0.2,0.01)\n",
    "\n",
    "## collect result\n",
    "result_a = {}\n",
    "for alpha in alpha_range:\n",
    "    result_e = {}\n",
    "    for epsilon in epsilon_range:\n",
    "        temp = []\n",
    "        for i in range(10):\n",
    "            temp.append(Q_learning(alpha,epsilon)[0])\n",
    "        result_e[round(epsilon,2)]= np.mean(temp)\n",
    "    result_a[round(alpha,2)] = result_e\n",
    "    \n",
    "### collect result of iteration times\n",
    "result_i = []\n",
    "for i in result_a:\n",
    "    result_i.append(list(result_a[i].values()))"
   ]
  },
  {
   "cell_type": "code",
   "execution_count": 23,
   "id": "e77249e9",
   "metadata": {},
   "outputs": [
    {
     "data": {
      "image/png": "[encoded data removed]",
      "text/plain": [
       "<Figure size 1008x504 with 1 Axes>"
      ]
     },
     "metadata": {
      "needs_background": "light"
     },
     "output_type": "display_data"
    }
   ],
   "source": [
    "## plot the result\n",
    "plt.figure(1,figsize=(14,7))\n",
    "plt.plot(epsilon_range, result_i[0], marker='o', color='r', label='Learning Rate=1')\n",
    "plt.plot(epsilon_range, result_i[1], marker='o', color='b', label='Learning Rate=0.95')\n",
    "plt.plot(epsilon_range, result_i[2], marker='o', color='black', label=':Learning Rate=0.9')\n",
    "plt.plot(epsilon_range, result_i[3], marker='o', color='y', label=':Learning Rate=0.85')\n",
    "plt.plot(epsilon_range, result_i[4], marker='o', color='g', label=':Learning Rate=0.8')\n",
    "plt.legend()\n",
    "plt.xlabel('epsilon range')\n",
    "plt.ylabel('Number of iteration to converge')\n",
    "\n",
    "plt.savefig('pic11.png')\n",
    "plt.show()"
   ]
  },
  {
   "cell_type": "markdown",
   "id": "3d0e9e0c",
   "metadata": {},
   "source": [
    "## Discussion\n",
    "As epsilon goes high, the needed iteration time raises exponential, which means the more random actions, the more effort is required to reach convergence in this situation.\n",
    "\n",
    "As the learning rate decreases, the number of steps required to reach convergence does not increase significantly. We judge that this is because there is no local optimal solution in this case, so even if the step length of the gradient descent becomes shorter, we can still reach the optimal point smoothly."
   ]
  },
  {
   "cell_type": "markdown",
   "id": "3038a05d",
   "metadata": {},
   "source": [
    "## part 1 (b)\n",
    "Increase the size of the chain to 10 states while keeping the rewards at both end of the chain. \n",
    "\n",
    "Discuss the new results, in particular ε "
   ]
  },
  {
   "cell_type": "markdown",
   "id": "edcbdb80",
   "metadata": {},
   "source": [
    "Now we re-set up the environment, the space is widened but the algorithm remains same.\n",
    "\n",
    "$$\\#\\text{State_space} = 10 \\quad \\#\\text{Action_space} = 2$$\n",
    "\n",
    "$$\n",
    "r=\\left[\n",
    "\\begin{matrix}\n",
    " 0.2 & 0 \\\\\n",
    " 0 & 0 \\\\\n",
    " \\cdots & \\cdots \\\\\n",
    " 0 & 0 \\\\\n",
    " 0 & 0 \\\\\n",
    " 0 & 1 \\\\\n",
    "\\end{matrix}\n",
    "\\right]\\quad\n",
    "a=\\left[\n",
    "\\begin{matrix}\n",
    " 2 & 1 \\\\\n",
    " 3 & 1 \\\\\n",
    " \\cdots & \\cdots \\\\\n",
    " 8 & 1 \\\\\n",
    " 9 & 1 \\\\\n",
    " 9 & 1 \\\\\n",
    "\\end{matrix}\n",
    "\\right]\n",
    "$$\n",
    "\n",
    "where $r$ is the reward on each state under two actions , and $a$ denotes state transition result under two actions. Both $r$ and $a$ is of dimension 10 x 2."
   ]
  },
  {
   "cell_type": "code",
   "execution_count": 25,
   "id": "31dccfc7",
   "metadata": {},
   "outputs": [],
   "source": [
    "## (b) tabular_q_learning + epsilon_greedy\n",
    "N = 10\n",
    "A = 2\n",
    "lamda = 0.9\n",
    "r = np.array(([0, 0 ,0 ,0, 0, 0, 0, 0, 0, 1],\n",
    "             [0.2, 0, 0 ,0 ,0, 0, 0, 0, 0, 0 ])).transpose()\n",
    "a = np.array(([1,2,3,4,5,6,7,8,9,9],\n",
    "             [0, 0 ,0 ,0, 0, 0, 0, 0, 0, 0 ])).transpose()"
   ]
  },
  {
   "cell_type": "code",
   "execution_count": 30,
   "id": "8b2dca65",
   "metadata": {},
   "outputs": [
    {
     "name": "stdout",
     "output_type": "stream",
     "text": [
      "(91, array([[3.86748003, 3.68005954],\n",
      "       [4.29794724, 3.48005954],\n",
      "       [4.77624414, 3.48005954],\n",
      "       [5.30768514, 3.48005954],\n",
      "       [5.89817514, 3.48005954],\n",
      "       [6.55427514, 3.48005954],\n",
      "       [7.28327514, 3.48005954],\n",
      "       [8.09327514, 3.48005954],\n",
      "       [8.99327514, 3.48005954],\n",
      "       [9.99327514, 3.48005954]]))\n"
     ]
    }
   ],
   "source": [
    "## iteration time and q_value*, alpha=0.9 and ep=0.01\n",
    "print(Q_learning())"
   ]
  },
  {
   "cell_type": "code",
   "execution_count": 39,
   "id": "775aa2ee",
   "metadata": {},
   "outputs": [],
   "source": [
    "## set alpha and epsilon range\n",
    "alpha_range = np.arange(1,0.75,-0.05)\n",
    "epsilon_range = np.arange(0,0.2,0.01)\n",
    "\n",
    "## collect result\n",
    "result_a = {}\n",
    "for alpha in alpha_range:\n",
    "    result_e = {}\n",
    "    for epsilon in epsilon_range:\n",
    "        temp = []\n",
    "        for i in range(10):\n",
    "            temp.append(Q_learning(alpha,epsilon)[0])\n",
    "        result_e[round(epsilon,2)]= np.mean(temp)\n",
    "    result_a[round(alpha,2)] = result_e\n",
    "    \n",
    "### collect result of iteration times\n",
    "result_i = []\n",
    "for i in result_a:\n",
    "    result_i.append(list(result_a[i].values()))"
   ]
  },
  {
   "cell_type": "code",
   "execution_count": 40,
   "id": "9b73bddf",
   "metadata": {},
   "outputs": [
    {
     "data": {
      "image/png": "[encoded data removed]",
      "text/plain": [
       "<Figure size 1008x504 with 1 Axes>"
      ]
     },
     "metadata": {
      "needs_background": "light"
     },
     "output_type": "display_data"
    }
   ],
   "source": [
    "## plot the result\n",
    "plt.figure(1,figsize=(14,7))\n",
    "plt.plot(epsilon_range, result_i[0], marker='o', color='r', label='Learning Rate=1')\n",
    "plt.plot(epsilon_range, result_i[1], marker='o', color='b', label='Learning Rate=0.95')\n",
    "plt.plot(epsilon_range, result_i[2], marker='o', color='black', label=':Learning Rate=0.9')\n",
    "plt.plot(epsilon_range, result_i[3], marker='o', color='y', label=':Learning Rate=0.85')\n",
    "plt.plot(epsilon_range, result_i[4], marker='o', color='g', label=':Learning Rate=0.8')\n",
    "plt.legend()\n",
    "plt.xlabel('epsilon range')\n",
    "plt.ylabel('Number of iteration to converge')\n",
    "\n",
    "plt.savefig('pic12.png')\n",
    "plt.show()"
   ]
  },
  {
   "cell_type": "markdown",
   "id": "91e7cea5",
   "metadata": {},
   "source": [
    "## Discussion\n",
    "The result is similiar to (a). \n",
    "The influence of the change of $epsilon$ on the number of iterations required for convergence is far greater than the influence of the change of the learning rate. Moreover, as the total number of states increases, this influence is further increased."
   ]
  },
  {
   "cell_type": "markdown",
   "id": "b02547e6",
   "metadata": {},
   "source": [
    "### part 2 (a)"
   ]
  },
  {
   "cell_type": "code",
   "execution_count": null,
   "id": "39e44af3",
   "metadata": {},
   "outputs": [],
   "source": [
    "import tensorflow as tf\n",
    "from tensorflow.keras import layers\n",
    "from matplotlib import pyplot as plt\n",
    "import numpy as np\n",
    "import time\n",
    "\n",
    "def q_learning_nn(env, learning_rate=1.0, num_episodes=1000):\n",
    "    # create the nn model\n",
    "    model = tf.keras.Sequential()\n",
    "    model.add(layers.InputLayer(batch_input_shape=(1, 10)))\n",
    "    model.add(layers.Dense(64, activation='sigmoid'))\n",
    "    model.add(layers.Dense(2, activation='linear'))\n",
    "    model.compile(loss='mse', optimizer=tf.keras.optimizers.Adam(learning_rate))\n",
    "    # q learning\n",
    "    batch_size = 32\n",
    "    lamda = 0.9\n",
    "    epsilon = 0.7\n",
    "    decay_factor = 0.999\n",
    "    avg_reward_list = []\n",
    "    \n",
    "    for i in range(num_episodes):\n",
    "        state = env.reset()\n",
    "        epsilon *= decay_factor\n",
    "        if i % 10 == 0:\n",
    "            print(\"Episode {} of {}\".format(i + 1, num_episodes))\n",
    "        done = False\n",
    "        reward_sum = 0\n",
    "        X = []\n",
    "        y = []\n",
    "        size = 0\n",
    "        while not done:\n",
    "            state_vector = np.eye(10)[state:state + 1]\n",
    "            Q_value = model.predict(state_vector)\n",
    "            if np.random.rand() < epsilon:\n",
    "                a = np.random.randint(2)\n",
    "#                 a = 0\n",
    "            else:\n",
    "                a = np.argmax(Q_value)\n",
    "            new_state, reward, done, _ = env.step(a)\n",
    "            BK = reward + lamda * np.max(model.predict(np.eye(10)[new_state:new_state + 1]))\n",
    "            Q_star = Q_value[0]\n",
    "            Q_star[a] = BK\n",
    "#             model.fit(state_vector, Q_star.reshape(-1, 2), epochs=1, verbose=0)\n",
    "            state = new_state\n",
    "            reward_sum += reward\n",
    "            \n",
    "            X.append(state_vector)\n",
    "            y.append(Q_star.reshape(-1, 2))\n",
    "            size += 1\n",
    "            # batch\n",
    "            if size == batch_size:\n",
    "                for j in range(batch_size):\n",
    "                    model.fit(X[j], y[j], epochs=1, verbose=0)\n",
    "                X = []\n",
    "                y = []\n",
    "                size = 0\n",
    "            \n",
    "        avg_reward_list.append(reward_sum / num_episodes)\n",
    "        \n",
    "        if i % 10 == 0:\n",
    "            print(\"Episode {} of {} FINISHED!\".format(i + 1, num_episodes))\n",
    "    plt.plot(avg_reward_list)\n",
    "    plt.title('Average Reward Plot')\n",
    "    plt.ylabel('Average reward per episode')\n",
    "    plt.xlabel('Number of episodes')\n",
    "    plt.savefig(\"avg_reward2.png\", dpi = 100)\n",
    "    plt.show()\n",
    "    for i in range(10):\n",
    "        print(\"| State {} - action {} |\".format(i, model.predict(np.eye(10)[i:i + 1]).ravel()))\n",
    "    return model"
   ]
  },
  {
   "cell_type": "code",
   "execution_count": null,
   "id": "97a3c4b6",
   "metadata": {},
   "outputs": [],
   "source": [
    "class MDP:\n",
    "    def __init__(self):\n",
    "        self.reward = np.array(([0, 0 ,0 ,0, 0, 0, 0, 0, 0, 1],\n",
    "                           [0.2, 0, 0 ,0 ,0, 0, 0, 0, 0, 0])).transpose()\n",
    "        self.state = 0\n",
    "        self.count = 0\n",
    "    \n",
    "    def reset(self):\n",
    "        self.state = 0\n",
    "        self.count = 0\n",
    "        return self.state\n",
    "    \n",
    "    def step(self, action):\n",
    "        done = False\n",
    "        step = 1000\n",
    "        \n",
    "#         print(\"State {}\".format(self.state))\n",
    "        reward = self.reward[self.state][action]\n",
    "        if action == 0 :\n",
    "            self.state = np.array(([1,2,3,4,5,6,7,8,9,9]))[self.state]\n",
    "        elif action == 1:\n",
    "            self.state = 0\n",
    "        \n",
    "        self.count += 1\n",
    "        if self.count > step:\n",
    "            done = True\n",
    "        else:\n",
    "            done\n",
    "#         print(\"New State {}\".format(self.state))\n",
    "#         print(\"Reward {}\".format(reward))\n",
    "        return self.state, reward, done, []"
   ]
  },
  {
   "cell_type": "code",
   "execution_count": null,
   "id": "5a3e1869",
   "metadata": {},
   "outputs": [],
   "source": [
    "if __name__ == '__main__':\n",
    "    time_start=time.time()\n",
    "    env = MDP()\n",
    "    model = q_learning_nn(env)\n",
    "    time_end=time.time()\n",
    "    print('time cost',time_end-time_start,'s')"
   ]
  }
 ],
 "metadata": {
  "kernelspec": {
   "display_name": "Python 3 (ipykernel)",
   "language": "python",
   "name": "python3"
  },
  "language_info": {
   "codemirror_mode": {
    "name": "ipython",
    "version": 3
   },
   "file_extension": ".py",
   "mimetype": "text/x-python",
   "name": "python",
   "nbconvert_exporter": "python",
   "pygments_lexer": "ipython3",
   "version": "3.10.1"
  }
 },
 "nbformat": 4,
 "nbformat_minor": 5
}
